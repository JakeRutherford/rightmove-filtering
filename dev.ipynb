{
 "cells": [
  {
   "cell_type": "code",
   "execution_count": 41,
   "metadata": {},
   "outputs": [],
   "source": [
    "from selenium import webdriver\n",
    "from selenium.webdriver.common.by import By\n",
    "from selenium.webdriver.chrome.service import Service\n",
    "from webdriver_manager.chrome import ChromeDriverManager\n",
    "from selenium.webdriver.support.ui import WebDriverWait\n",
    "from selenium.webdriver.support import expected_conditions as EC\n",
    "from selenium.webdriver.common.keys import Keys\n",
    "from selenium.webdriver.support.ui import Select\n",
    "from selenium.common.exceptions import NoSuchElementException\n",
    "from selenium.webdriver.common.action_chains import ActionChains"
   ]
  },
  {
   "cell_type": "code",
   "execution_count": 68,
   "metadata": {},
   "outputs": [],
   "source": [
    "# Set up Chrome options\n",
    "chrome_options = webdriver.ChromeOptions()\n",
    "\n",
    "# Initialize the Chrome driver\n",
    "driver = webdriver.Chrome(service=Service(ChromeDriverManager().install()), options=chrome_options)\n",
    "\n",
    "# Go to Rightmove website\n",
    "driver.get(\"https://www.rightmove.co.uk\")\n",
    "# Wait for the cookie popup to be present and then locate the 'Accept all' button\n",
    "wait = WebDriverWait(driver, 10)\n",
    "accept_button = wait.until(EC.element_to_be_clickable((By.XPATH, '//button[text()=\"Accept all\"]')))\n",
    "\n",
    "# Click the 'Accept all' button\n",
    "accept_button.click()\n",
    "\n",
    "# Wait until the search input is present\n",
    "search_input = wait.until(EC.visibility_of_element_located((By.CSS_SELECTOR, 'input.ksc_inputText.ksc_typeAheadInputField')))\n",
    "\n",
    "# Clear the search box before entering text\n",
    "search_input.clear()\n",
    "search_input.send_keys(\"London\")\n",
    "\n",
    "# Wait for the autocomplete suggestions to appear and use the down arrow key to select the first suggestion\n",
    "search_input.send_keys(Keys.DOWN)\n",
    "\n",
    "# Use the ENTER key to select the top suggestion from the dropdown\n",
    "search_input.send_keys(Keys.ENTER)\n",
    "\n",
    "# Wait for the \"To Rent\" button that contains the text \"To Rent\" to be clickable\n",
    "to_rent_button = wait.until(EC.element_to_be_clickable((By.XPATH, '//button[contains(text(), \"To Rent\")]')))\n",
    "to_rent_button.click()\n",
    "\n",
    "# Select the minimum price\n",
    "min_price_select = wait.until(EC.presence_of_element_located((By.ID, 'minPrice')))\n",
    "Select(min_price_select).select_by_value(\"2500\")\n",
    "\n",
    "# Select the maximum price\n",
    "max_price_select = wait.until(EC.presence_of_element_located((By.ID, 'maxPrice')))\n",
    "Select(max_price_select).select_by_value(\"3000\")\n",
    "\n",
    "# Select the minimum number of bedrooms\n",
    "min_bedrooms_select = wait.until(EC.presence_of_element_located((By.ID, 'minBedrooms')))\n",
    "Select(min_bedrooms_select).select_by_value(\"2\")\n",
    "\n",
    "# Select the maximum number of bedrooms\n",
    "max_bedrooms_select = wait.until(EC.presence_of_element_located((By.ID, 'maxBedrooms')))\n",
    "Select(max_bedrooms_select).select_by_value(\"3\")\n",
    "\n",
    "# Select the property type\n",
    "property_type_select = wait.until(EC.presence_of_element_located((By.ID, 'displayPropertyType')))\n",
    "Select(property_type_select).select_by_visible_text(\"Flats / Apartments\")\n",
    "\n",
    "# Wait for the \"Find properties\" button to be clickable\n",
    "find_properties_button = wait.until(EC.element_to_be_clickable((By.XPATH, '//button[contains(text(), \"Find properties\")]')))\n",
    "find_properties_button.click()"
   ]
  },
  {
   "cell_type": "code",
   "execution_count": 69,
   "metadata": {},
   "outputs": [],
   "source": [
    "# Initialize an empty list to store the URLs\n",
    "property_urls = []\n",
    "\n",
    "# Start processing pages\n",
    "while True:\n",
    "    # Wait for the properties to be loaded on the page\n",
    "    properties = WebDriverWait(driver, 10).until(\n",
    "        EC.presence_of_all_elements_located((By.CSS_SELECTOR, 'div.l-searchResult[data-test*=\"propertyCard\"]'))\n",
    "    )\n",
    "\n",
    "    # Iterate over the properties\n",
    "    for property in properties:\n",
    "        try:\n",
    "            # Check if the property has at least 2 bathrooms by looking for the icon's title\n",
    "            bathroom_icon = property.find_element(By.CSS_SELECTOR, 'span.no-svg-bathroom-icon + span.text')\n",
    "            num_bathrooms = int(bathroom_icon.get_attribute('textContent'))\n",
    "            \n",
    "            # Check if the property card mentions a floorplan\n",
    "            floorplan_element = property.find_element(By.CSS_SELECTOR, 'a[data-test=\"property-floorplan-icon\"]')\n",
    "            \n",
    "            # If the property has at least 2 bathrooms and a floorplan, get the URL and add to the list\n",
    "            if num_bathrooms >= 2 and floorplan_element:\n",
    "                property_url_element = property.find_element(By.CSS_SELECTOR, 'a.propertyCard-link')\n",
    "                property_url = property_url_element.get_attribute('href')\n",
    "                property_urls.append(property_url)\n",
    "        except NoSuchElementException:\n",
    "            # If the bathroom element or floorplan is not found, skip this property\n",
    "            continue\n",
    "\n",
    "    # Check if the \"Next\" button is disabled\n",
    "    next_button = driver.find_element(By.CSS_SELECTOR, 'button.pagination-direction--next')\n",
    "    if next_button.get_attribute('disabled'):\n",
    "        # If the button is disabled, we are on the last page\n",
    "        break\n",
    "    else:\n",
    "        # If the button is not disabled, click it to go to the next page\n",
    "        ActionChains(driver).move_to_element(next_button).click().perform()\n"
   ]
  },
  {
   "cell_type": "code",
   "execution_count": 81,
   "metadata": {},
   "outputs": [],
   "source": [
    "# Close the browser\n",
    "driver.quit()"
   ]
  },
  {
   "cell_type": "code",
   "execution_count": 100,
   "metadata": {},
   "outputs": [
    {
     "name": "stdout",
     "output_type": "stream",
     "text": [
      "Image downloaded and saved as floorplan.jpeg\n"
     ]
    }
   ],
   "source": [
    "import requests\n",
    "import json\n",
    "from bs4 import BeautifulSoup\n",
    "\n",
    "\n",
    "def download_image(image_url, filename):\n",
    "    try:\n",
    "        # Send a GET request to the image URL\n",
    "        response = requests.get(image_url)\n",
    "\n",
    "        # Check if the request was successful\n",
    "        response.raise_for_status()\n",
    "\n",
    "        # Write the image content to a file\n",
    "        with open(filename, \"wb\") as file:\n",
    "            file.write(response.content)\n",
    "\n",
    "        print(f\"Image downloaded and saved as {filename}\")\n",
    "    except requests.HTTPError as http_err:\n",
    "        print(f\"HTTP error occurred: {http_err}\")\n",
    "    except Exception as err:\n",
    "        print(f\"An error occurred: {err}\")\n",
    "\n",
    "\n",
    "def get_floorplan_url(property_url):\n",
    "    # Split the URL on '#'\n",
    "    parts = property_url.split(\"#\")\n",
    "    # Insert the floorplan segment before the '?channel=RES_LET' part\n",
    "    floorplan_url = (\n",
    "        parts[0] + \"#/floorplan\" + (\"?\" + parts[1] if len(parts) > 1 else \"\")\n",
    "    )\n",
    "    return floorplan_url\n",
    "\n",
    "\n",
    "def extract_floorplan_url_from_html(html_content):\n",
    "    # Parse the HTML content\n",
    "    soup = BeautifulSoup(html_content, \"html.parser\")\n",
    "\n",
    "    # Find the script tag containing the PAGE_MODEL\n",
    "    script_tag = soup.find(\"script\", string=lambda t: t and \"window.PAGE_MODEL\" in t)\n",
    "\n",
    "    # Extract the JSON string from the script tag\n",
    "    json_string = script_tag.string.split(\"=\", 1)[1].strip()\n",
    "\n",
    "    # Remove the trailing semicolon if it exists\n",
    "    json_string = json_string.rstrip(\";\")\n",
    "\n",
    "    # Parse the JSON string\n",
    "    data = json.loads(json_string)\n",
    "\n",
    "    # Extract the floorplan URL\n",
    "    floorplan_url = data[\"propertyData\"][\"floorplans\"][0][\"url\"]\n",
    "\n",
    "    return floorplan_url\n",
    "\n",
    "\n",
    "url = get_floorplan_url(property_urls[0])\n",
    "\n",
    "headers = requests.utils.default_headers()\n",
    "\n",
    "headers.update(\n",
    "    {\n",
    "        \"User-Agent\": \"My User Agent 1.0\",\n",
    "    }\n",
    ")\n",
    "\n",
    "response = requests.get(url, headers=headers)\n",
    "\n",
    "floorplan_image_url = extract_floorplan_url_from_html(response.text)\n",
    "\n",
    "download_image(floorplan_image_url, \"floorplan.jpeg\")"
   ]
  },
  {
   "cell_type": "code",
   "execution_count": 101,
   "metadata": {},
   "outputs": [
    {
     "name": "stdout",
     "output_type": "stream",
     "text": [
      "Answer: 794\n"
     ]
    }
   ],
   "source": [
    "import pytesseract\n",
    "from PIL import Image\n",
    "from transformers import pipeline\n",
    "\n",
    "# Path to the image\n",
    "image_path = 'floorplan.jpeg'\n",
    "\n",
    "# Open the image with Pillow\n",
    "image = Image.open(image_path)\n",
    "\n",
    "# Use Tesseract to do OCR on the image\n",
    "text = pytesseract.image_to_string(image)\n",
    "\n",
    "if text.strip():\n",
    "\n",
    "    # Load a pre-trained question-answering model from Hugging Face\n",
    "    qa_pipeline = pipeline(\"question-answering\", model=\"distilbert-base-cased-distilled-squad\")\n",
    "\n",
    "    # The question we want to answer (i.e., what we want to extract)\n",
    "    question = \"What is the total gross internal area in square feet?\"\n",
    "\n",
    "    # Use the model to find the answer\n",
    "    result = qa_pipeline(question=question, context=text)\n",
    "\n",
    "    # Print the answer\n",
    "    print(\"Answer:\", result[\"answer\"])\n"
   ]
  },
  {
   "cell_type": "code",
   "execution_count": 99,
   "metadata": {},
   "outputs": [
    {
     "data": {
      "text/plain": [
       "''"
      ]
     },
     "execution_count": 99,
     "metadata": {},
     "output_type": "execute_result"
    }
   ],
   "source": [
    "text"
   ]
  },
  {
   "cell_type": "code",
   "execution_count": null,
   "metadata": {},
   "outputs": [],
   "source": []
  }
 ],
 "metadata": {
  "kernelspec": {
   "display_name": "venv",
   "language": "python",
   "name": "python3"
  },
  "language_info": {
   "codemirror_mode": {
    "name": "ipython",
    "version": 3
   },
   "file_extension": ".py",
   "mimetype": "text/x-python",
   "name": "python",
   "nbconvert_exporter": "python",
   "pygments_lexer": "ipython3",
   "version": "3.10.13"
  }
 },
 "nbformat": 4,
 "nbformat_minor": 2
}
